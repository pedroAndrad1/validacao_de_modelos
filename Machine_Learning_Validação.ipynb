{
  "nbformat": 4,
  "nbformat_minor": 0,
  "metadata": {
    "colab": {
      "name": "Machine_Learning_Validação.ipynb",
      "version": "0.3.2",
      "provenance": [],
      "collapsed_sections": [],
      "include_colab_link": true
    },
    "kernelspec": {
      "name": "python3",
      "display_name": "Python 3"
    }
  },
  "cells": [
    {
      "cell_type": "markdown",
      "metadata": {
        "id": "view-in-github",
        "colab_type": "text"
      },
      "source": [
        "<a href=\"https://colab.research.google.com/github/pedroAndrad1/validacao_de_modelos/blob/master/Machine_Learning_Validac%CC%A7a%CC%83o.ipynb\" target=\"_parent\"><img src=\"https://colab.research.google.com/assets/colab-badge.svg\" alt=\"Open In Colab\"/></a>"
      ]
    },
    {
      "cell_type": "markdown",
      "metadata": {
        "id": "jJDIPPz7yYXF",
        "colab_type": "text"
      },
      "source": [
        "#Métodos para validar um modelo\n",
        "\n",
        "Por enquanto, apenas sabemos a acurácia como método de avaliar um modelo. Vamos ver outras formas."
      ]
    },
    {
      "cell_type": "code",
      "metadata": {
        "id": "y7ik04NlDZMA",
        "colab_type": "code",
        "outputId": "51d11dd5-673f-4c5e-f6af-1d0778b8fe1e",
        "colab": {
          "base_uri": "https://localhost:8080/",
          "height": 204
        }
      },
      "source": [
        "import pandas as pd\n",
        "\n",
        "uri = \"https://gist.githubusercontent.com/guilhermesilveira/e99a526b2e7ccc6c3b70f53db43a87d2/raw/1605fc74aa778066bf2e6695e24d53cf65f2f447/machine-learning-carros-simulacao.csv\"\n",
        "dados = pd.read_csv(uri).drop(columns=[\"Unnamed: 0\"], axis=1)\n",
        "dados.head()"
      ],
      "execution_count": 2,
      "outputs": [
        {
          "output_type": "execute_result",
          "data": {
            "text/html": [
              "<div>\n",
              "<style scoped>\n",
              "    .dataframe tbody tr th:only-of-type {\n",
              "        vertical-align: middle;\n",
              "    }\n",
              "\n",
              "    .dataframe tbody tr th {\n",
              "        vertical-align: top;\n",
              "    }\n",
              "\n",
              "    .dataframe thead th {\n",
              "        text-align: right;\n",
              "    }\n",
              "</style>\n",
              "<table border=\"1\" class=\"dataframe\">\n",
              "  <thead>\n",
              "    <tr style=\"text-align: right;\">\n",
              "      <th></th>\n",
              "      <th>preco</th>\n",
              "      <th>vendido</th>\n",
              "      <th>idade_do_modelo</th>\n",
              "      <th>km_por_ano</th>\n",
              "    </tr>\n",
              "  </thead>\n",
              "  <tbody>\n",
              "    <tr>\n",
              "      <th>0</th>\n",
              "      <td>30941.02</td>\n",
              "      <td>1</td>\n",
              "      <td>18</td>\n",
              "      <td>35085.22134</td>\n",
              "    </tr>\n",
              "    <tr>\n",
              "      <th>1</th>\n",
              "      <td>40557.96</td>\n",
              "      <td>1</td>\n",
              "      <td>20</td>\n",
              "      <td>12622.05362</td>\n",
              "    </tr>\n",
              "    <tr>\n",
              "      <th>2</th>\n",
              "      <td>89627.50</td>\n",
              "      <td>0</td>\n",
              "      <td>12</td>\n",
              "      <td>11440.79806</td>\n",
              "    </tr>\n",
              "    <tr>\n",
              "      <th>3</th>\n",
              "      <td>95276.14</td>\n",
              "      <td>0</td>\n",
              "      <td>3</td>\n",
              "      <td>43167.32682</td>\n",
              "    </tr>\n",
              "    <tr>\n",
              "      <th>4</th>\n",
              "      <td>117384.68</td>\n",
              "      <td>1</td>\n",
              "      <td>4</td>\n",
              "      <td>12770.11290</td>\n",
              "    </tr>\n",
              "  </tbody>\n",
              "</table>\n",
              "</div>"
            ],
            "text/plain": [
              "       preco  vendido  idade_do_modelo   km_por_ano\n",
              "0   30941.02        1               18  35085.22134\n",
              "1   40557.96        1               20  12622.05362\n",
              "2   89627.50        0               12  11440.79806\n",
              "3   95276.14        0                3  43167.32682\n",
              "4  117384.68        1                4  12770.11290"
            ]
          },
          "metadata": {
            "tags": []
          },
          "execution_count": 2
        }
      ]
    },
    {
      "cell_type": "code",
      "metadata": {
        "id": "tm4PuuHVMuKS",
        "colab_type": "code",
        "outputId": "060f3358-7cc9-46e2-a9b2-f3fe6e541e58",
        "colab": {
          "base_uri": "https://localhost:8080/",
          "height": 34
        }
      },
      "source": [
        "import numpy as np\n",
        "from sklearn.model_selection import train_test_split\n",
        "from sklearn.svm import LinearSVC\n",
        "from sklearn.metrics import accuracy_score\n",
        "\n",
        "x = dados[[\"preco\", \"idade_do_modelo\",\"km_por_ano\"]]\n",
        "y = dados[\"vendido\"]\n",
        "\n",
        "SEED = 158020\n",
        "np.random.seed(SEED)\n",
        "treino_x, teste_x, treino_y, teste_y = train_test_split(x, y, test_size = 0.25,\n",
        "                                                         stratify = y)\n",
        "print(\"Treinaremos com %d elementos e testaremos com %d elementos\" % (len(treino_x), len(teste_x)))\n"
      ],
      "execution_count": 3,
      "outputs": [
        {
          "output_type": "stream",
          "text": [
            "Treinaremos com 7500 elementos e testaremos com 2500 elementos\n"
          ],
          "name": "stdout"
        }
      ]
    },
    {
      "cell_type": "code",
      "metadata": {
        "id": "G2ZFWoPkGONL",
        "colab_type": "code",
        "outputId": "d67ee758-d1cf-4c0a-f024-b448b065929e",
        "colab": {
          "base_uri": "https://localhost:8080/",
          "height": 34
        }
      },
      "source": [
        "from sklearn.dummy import DummyClassifier\n",
        "\n",
        "dummy_stratified = DummyClassifier()\n",
        "dummy_stratified.fit(treino_x, treino_y)\n",
        "acuracia = dummy_stratified.score(teste_x, teste_y) * 100\n",
        "\n",
        "print(\"A acurácia do dummy stratified foi %.2f%%\" % acuracia)"
      ],
      "execution_count": 4,
      "outputs": [
        {
          "output_type": "stream",
          "text": [
            "A acurácia do dummy stratified foi 50.96%\n"
          ],
          "name": "stdout"
        }
      ]
    },
    {
      "cell_type": "code",
      "metadata": {
        "id": "-1YsD-whJuGR",
        "colab_type": "code",
        "outputId": "da81e9a2-d5ff-43c1-e860-cbe8bdeb64c6",
        "colab": {
          "base_uri": "https://localhost:8080/",
          "height": 34
        }
      },
      "source": [
        "from sklearn.tree import DecisionTreeClassifier\n",
        "\n",
        "SEED = 158020\n",
        "np.random.seed(SEED)\n",
        "modelo = DecisionTreeClassifier(max_depth=2)\n",
        "modelo.fit(treino_x, treino_y)\n",
        "previsoes = modelo.predict(teste_x)\n",
        "\n",
        "acuracia = accuracy_score(teste_y, previsoes) * 100\n",
        "print(\"A acurácia foi %.2f%%\" % acuracia)\n"
      ],
      "execution_count": 5,
      "outputs": [
        {
          "output_type": "stream",
          "text": [
            "A acurácia foi 71.92%\n"
          ],
          "name": "stdout"
        }
      ]
    },
    {
      "cell_type": "markdown",
      "metadata": {
        "id": "gGa_3xkAysu2",
        "colab_type": "text"
      },
      "source": [
        "Acúracia do nosso modelo foi essa. Mas e se passarmos um SEED diferente, tanto na hora de splitar quanto na hora de criar o modelo."
      ]
    },
    {
      "cell_type": "code",
      "metadata": {
        "id": "TnivUUHrQmaM",
        "colab_type": "code",
        "colab": {
          "base_uri": "https://localhost:8080/",
          "height": 51
        },
        "outputId": "136926d7-e10d-487e-96d9-ed974752acf6"
      },
      "source": [
        "SEED = 5\n",
        "np.random.seed(SEED)\n",
        "treino_x, teste_x, treino_y, teste_y = train_test_split(x, y, test_size = 0.25,\n",
        "                                                         stratify = y)\n",
        "print(\"Treinaremos com %d elementos e testaremos com %d elementos\" % (len(treino_x), len(teste_x)))\n",
        "\n",
        "SEED = 5\n",
        "np.random.seed(SEED)\n",
        "modelo = DecisionTreeClassifier(max_depth=2)\n",
        "modelo.fit(treino_x, treino_y)\n",
        "previsoes = modelo.predict(teste_x)\n",
        "\n",
        "acuracia = accuracy_score(teste_y, previsoes) * 100\n",
        "print(\"A acurácia foi %.2f%%\" % acuracia)"
      ],
      "execution_count": 6,
      "outputs": [
        {
          "output_type": "stream",
          "text": [
            "Treinaremos com 7500 elementos e testaremos com 2500 elementos\n",
            "A acurácia foi 76.84%\n"
          ],
          "name": "stdout"
        }
      ]
    },
    {
      "cell_type": "markdown",
      "metadata": {
        "id": "7z7lMsB2zMo3",
        "colab_type": "text"
      },
      "source": [
        "Tivemos um resultado diferente. Essa diferença no resultado pode ser o que decide entre usar o modelo ou não, essa decisão não pode ficar a mercê da aleatoriade."
      ]
    },
    {
      "cell_type": "markdown",
      "metadata": {
        "id": "sPHLBeoZ4HNk",
        "colab_type": "text"
      },
      "source": [
        "#Cross Validation \n",
        "\n",
        "        Para ficarmos menos dependentes de um seed aleatório, podemos usar o métode de cross validation. Que consiste em separar as features em K pedaços e fazemos treino e teste K vezes cada vez escolhendo um dos grupos para teste e o resto ficando para treino. Existe uma função do sklearn.model_selection chamada cross_validate.\n",
        "\n",
        "docs:\n",
        "https://scikit-learn.org/stable/modules/generated/sklearn.model_selection.cross_validate.html\n",
        "\n",
        "        Essa função vai nos retornar um dicionário em que um dos itens é uma lista com as K acurácias.\n",
        "\n",
        "        Queremos um interavlo, então iremos usar um técnica de estástica:\n",
        "\n",
        "Intervalo = [ média - 2 * desvio padrão, média + 2 * desvio padrão ]\n",
        "\n",
        "        A gente multiplica as pontas do intervalo por 100 para ficar no formato de porcentagem.\n",
        "\n",
        "        Os array's do numpy já tem funções para calcular média, mean( ), e desvio padrão, std(). "
      ]
    },
    {
      "cell_type": "code",
      "metadata": {
        "id": "GrE-mMIX6_2c",
        "colab_type": "code",
        "colab": {
          "base_uri": "https://localhost:8080/",
          "height": 68
        },
        "outputId": "3d1f0fcb-da15-4c0e-857e-ef2f06745c50"
      },
      "source": [
        "from sklearn.model_selection import cross_validate\n",
        "\n",
        "#Vamos instanciar o modelo de novo.\n",
        "SEED = 5\n",
        "np.random.seed(SEED)\n",
        "modelo = DecisionTreeClassifier(max_depth=2)\n",
        "\n",
        "#Aplicando o cross validation com 5 grupos.\n",
        "\n",
        "results = cross_validate(modelo, x, y, cv = 5)\n",
        "\n",
        "results\n"
      ],
      "execution_count": 7,
      "outputs": [
        {
          "output_type": "execute_result",
          "data": {
            "text/plain": [
              "{'fit_time': array([0.00967193, 0.01080489, 0.00854254, 0.00877976, 0.00992656]),\n",
              " 'score_time': array([0.00202441, 0.00190067, 0.00168276, 0.00188661, 0.00187755]),\n",
              " 'test_score': array([0.756 , 0.7565, 0.7625, 0.7545, 0.7595])}"
            ]
          },
          "metadata": {
            "tags": []
          },
          "execution_count": 7
        }
      ]
    },
    {
      "cell_type": "code",
      "metadata": {
        "id": "bbAF-tm_77Xh",
        "colab_type": "code",
        "colab": {
          "base_uri": "https://localhost:8080/",
          "height": 34
        },
        "outputId": "a8caf919-e968-4001-809b-69e4de8e048d"
      },
      "source": [
        "#Tirando a media dos testes\n",
        "media = results['test_score'].mean()\n",
        "#Tirando o desvio padrao\n",
        "desvio_padrao = results['test_score'].std()\n",
        "\n",
        "print(\"Accuracy com cross validation, 5 = [%.2f, %.2f] \" % ( (media - 2*desvio_padrao) * 100, (media + 2*desvio_padrao) * 100 ) )\n"
      ],
      "execution_count": 8,
      "outputs": [
        {
          "output_type": "stream",
          "text": [
            "Accuracy com cross validation, 5 = [75.21, 76.35] \n"
          ],
          "name": "stdout"
        }
      ]
    },
    {
      "cell_type": "markdown",
      "metadata": {
        "id": "T9lzhag39Ox7",
        "colab_type": "text"
      },
      "source": [
        "Perceba que ainda ficamos dependendo da quantidade de grupos que usamos para o cross validation."
      ]
    },
    {
      "cell_type": "code",
      "metadata": {
        "id": "xga--tUr9gTG",
        "colab_type": "code",
        "colab": {
          "base_uri": "https://localhost:8080/",
          "height": 34
        },
        "outputId": "4e1c53d9-1aaa-4da2-b4bb-b63e17bf098b"
      },
      "source": [
        "results = cross_validate(modelo, x, y, cv = 7)\n",
        "\n",
        "#Tirando a media dos testes\n",
        "media = results['test_score'].mean()\n",
        "#Tirando o desvio padrao\n",
        "desvio_padrao = results['test_score'].std()\n",
        "\n",
        "print(\"Accuracy com cross validation, 7 = [%.2f, %.2f] \" % ( (media - 2*desvio_padrao) * 100, (media + 2*desvio_padrao) * 100 ) )\n"
      ],
      "execution_count": 9,
      "outputs": [
        {
          "output_type": "stream",
          "text": [
            "Accuracy com cross validation, 7 = [74.58, 76.98] \n"
          ],
          "name": "stdout"
        }
      ]
    },
    {
      "cell_type": "markdown",
      "metadata": {
        "id": "HP4VWMWN9sJk",
        "colab_type": "text"
      },
      "source": [
        "Há artigos que a própria documentação cita e outros por aí na literatura dizendo que o número de grupos ideal é entre 5 e 10. Da uma lida lá."
      ]
    },
    {
      "cell_type": "markdown",
      "metadata": {
        "id": "W4PDaqit_gBv",
        "colab_type": "text"
      },
      "source": [
        "#Splitter Classes\n",
        "\n",
        "        Eu gostaria de embaralhar os dados antes de quebrá-los para o cross validation. Aconte que o cross_validate não tem uma opção de shuffle, mas se você ler na documentação verá que o argumento cv aceita um inteiro ou um cross-validation generator.\n",
        "        \n",
        "        Um cross-validation generator é uma função que é capaz de fazer o shuffle dos dados. Existe um módulo no model_selection que é chamado Splitter Classes. Neste módulo há vários cross-validation generator's. Usaremos o KFold.\n",
        "        \n",
        "docs:\n",
        "        \n",
        "   https://scikit-learn.org/stable/modules/generated/sklearn.model_selection.KFold.html"
      ]
    },
    {
      "cell_type": "code",
      "metadata": {
        "id": "NzdZz_EiCCTk",
        "colab_type": "code",
        "colab": {}
      },
      "source": [
        "#Vou colocar o processe de imprimrir o intevalo em uma funçao\n",
        "\n",
        "def imprime_results(results):\n",
        "  #Tirando a media dos testes\n",
        "  media = results['test_score'].mean()\n",
        "  #Tirando o desvio padrao\n",
        "  desvio_padrao = results['test_score'].std()\n",
        "  \n",
        "  print(\"Accuracy média: %.2f\" % (media * 100) )\n",
        "  print(\"Accuracy com cross validation: [%.2f, %.2f] \" % ( (media - 2*desvio_padrao) * 100, (media + 2*desvio_padrao) * 100 ) )"
      ],
      "execution_count": 0,
      "outputs": []
    },
    {
      "cell_type": "code",
      "metadata": {
        "id": "0hfsP7uwA8G3",
        "colab_type": "code",
        "colab": {
          "base_uri": "https://localhost:8080/",
          "height": 51
        },
        "outputId": "c401f141-87ae-47d1-f9ba-433273f9c79f"
      },
      "source": [
        "from sklearn.model_selection import KFold\n",
        "SEED = 100\n",
        "np.random.seed(SEED)\n",
        "\n",
        "#O KFold tem random_state\n",
        "cv =  KFold(n_splits = 5, shuffle = True)\n",
        "\n",
        "#Vamos instanciar o modelo de novo.\n",
        "\n",
        "modelo = DecisionTreeClassifier(max_depth=2)\n",
        "\n",
        "#Aplicando o cross validation com o KFold.\n",
        "\n",
        "results = cross_validate(modelo, x, y, cv = cv)\n",
        "\n",
        "imprime_results(results)"
      ],
      "execution_count": 15,
      "outputs": [
        {
          "output_type": "stream",
          "text": [
            "Accuracy média: 75.78\n",
            "Accuracy com cross validation: [74.50, 77.06] \n"
          ],
          "name": "stdout"
        }
      ]
    },
    {
      "cell_type": "markdown",
      "metadata": {
        "id": "N2u0TcPABh-l",
        "colab_type": "text"
      },
      "source": [
        "#Stratified KFold\n",
        "\n",
        "        Note na documentação do KFold que ele não stratificar as features por classe. Ou seja, embora haja um shuffle das features antes de separar em grupos, ainda é possível que haja um desbalanceamento entre as features de diferentes classes. Isso seria péssimo para o modelo, pois ele treinaria com as features predominantemente de uma classe e testaria com de outra, dando uma acurácia terrível.\n",
        "         \n",
        "         O StratifiedKFold por padrão já faz esse balanceamento. Vamos usá-lo.\n",
        "         \n",
        "docs:\n",
        "https://scikit-learn.org/stable/modules/generated/sklearn.model_selection.StratifiedKFold.html#sklearn.model_selection.StratifiedKFold"
      ]
    },
    {
      "cell_type": "code",
      "metadata": {
        "id": "33lK-2idClnW",
        "colab_type": "code",
        "colab": {
          "base_uri": "https://localhost:8080/",
          "height": 51
        },
        "outputId": "0011b252-e886-4278-f993-2e9511d930f0"
      },
      "source": [
        "from sklearn.model_selection import StratifiedKFold\n",
        "SEED = 100\n",
        "np.random.seed(SEED)\n",
        "\n",
        "#O StratifiedKFold tem random_state.\n",
        "#Nao vou fazer um shuffle das features antes de separa-las, vamos ver\n",
        "#como se sai a cross validation.\n",
        "cv =  StratifiedKFold(n_splits = 5, shuffle = False)\n",
        "\n",
        "#Vamos instanciar o modelo de novo.\n",
        "\n",
        "modelo = DecisionTreeClassifier(max_depth=2)\n",
        "\n",
        "#Aplicando o cross validation com o StratifiedKFold.\n",
        "\n",
        "results = cross_validate(modelo, x, y, cv = cv)\n",
        "\n",
        "imprime_results(results)"
      ],
      "execution_count": 12,
      "outputs": [
        {
          "output_type": "stream",
          "text": [
            "Accuracy média: 75.78\n",
            "Accuracy com cross validation: [75.21, 76.35] \n"
          ],
          "name": "stdout"
        }
      ]
    },
    {
      "cell_type": "markdown",
      "metadata": {
        "id": "HPuAgu-eDGcN",
        "colab_type": "text"
      },
      "source": [
        "Veja que mesmo sem o shuffle, tivemos um bom intervalo. Nesse caso, as features ajudaram também, pois elas não são tão desbalanceadas. Mas se fossem, o StratifiedKFold, dando um shuffle até que ajuda, poderia ser uma boa solução. Tudo essas situações e quais classes usar são descritas na documentação do Sklearn.\n",
        "\n",
        "docs:\n",
        "https://scikit-learn.org/stable/modules/cross_validation.html"
      ]
    },
    {
      "cell_type": "markdown",
      "metadata": {
        "id": "ntYAIDPbDtDo",
        "colab_type": "text"
      },
      "source": [
        "#Agrupamento\n",
        "\n",
        "        Até agora, fizemos a cross validation pensando apenas na classe vendido. Ou seja, em todas as situações de treino e teste, essas classes estavam presentes em ambas. \n",
        "        \n",
        "        Mas, pense o seguinte, estamos trabalhando com carros e cada carro tem um modelo que não está descrito nos nossos dados. Se tivesse em cada treino e teste no cross validation, estáriamos, provavelmente, trabalhando como todos os modelos em ambas as situações de treino e teste. \n",
        "        \n",
        "        Não teria uma situação na qual o modelo treina com um conjunto de modelos e treina com features de um modelo que não estava presente nos treinos. É imprescendível que o modelo seja avaliado nesse tipo de situação. Pois no mundo real isso é muito comum, temos features de derteminados grupos, nesse caso modelos de carros, e chega novas features de grupos não prevíos no conjunto de dados.\n",
        "        \n",
        "        Logo, vamos criar uma nova coluna chamada modelos. Essa colunas serão números aleatórios. Mas só isso não é o suficiente, eu quero que exista a possibilidade de até 5 modelos por um determinado ano. Então, gerarei um número aleatório entre -2 e 2 e somarei este número a idade do modelo. Para isso usarei a função randint() do numpy.\n",
        "        \n",
        "         Para fazer a cross validation por grupos, vamos usar o classe GroupKFold.\n",
        " \n",
        " docs:\n",
        "https://docs.scipy.org/doc/numpy/reference/generated/numpy.random.randint.html\n",
        "https://scikit-learn.org/stable/modules/generated/sklearn.model_selection.GroupKFold.html"
      ]
    },
    {
      "cell_type": "code",
      "metadata": {
        "id": "8xD_B1WtUBpC",
        "colab_type": "code",
        "colab": {
          "base_uri": "https://localhost:8080/",
          "height": 204
        },
        "outputId": "c400042d-5e9e-4441-e97d-285cf38d5a7a"
      },
      "source": [
        "#Criando a coluna de modelos.\n",
        "#A funcao randint tem um parametro que diz quantos numeros aleatorios eu quero.\n",
        "#Vou colocar esse numero igual a quantidde de features que temos. Usando o len().\n",
        "\n",
        "dados['modelo'] = dados.idade_do_modelo - np.random.randint(-2, 3, len(dados))\n",
        "dados.head()"
      ],
      "execution_count": 22,
      "outputs": [
        {
          "output_type": "execute_result",
          "data": {
            "text/html": [
              "<div>\n",
              "<style scoped>\n",
              "    .dataframe tbody tr th:only-of-type {\n",
              "        vertical-align: middle;\n",
              "    }\n",
              "\n",
              "    .dataframe tbody tr th {\n",
              "        vertical-align: top;\n",
              "    }\n",
              "\n",
              "    .dataframe thead th {\n",
              "        text-align: right;\n",
              "    }\n",
              "</style>\n",
              "<table border=\"1\" class=\"dataframe\">\n",
              "  <thead>\n",
              "    <tr style=\"text-align: right;\">\n",
              "      <th></th>\n",
              "      <th>preco</th>\n",
              "      <th>vendido</th>\n",
              "      <th>idade_do_modelo</th>\n",
              "      <th>km_por_ano</th>\n",
              "      <th>modelo</th>\n",
              "    </tr>\n",
              "  </thead>\n",
              "  <tbody>\n",
              "    <tr>\n",
              "      <th>0</th>\n",
              "      <td>30941.02</td>\n",
              "      <td>1</td>\n",
              "      <td>18</td>\n",
              "      <td>35085.22134</td>\n",
              "      <td>16</td>\n",
              "    </tr>\n",
              "    <tr>\n",
              "      <th>1</th>\n",
              "      <td>40557.96</td>\n",
              "      <td>1</td>\n",
              "      <td>20</td>\n",
              "      <td>12622.05362</td>\n",
              "      <td>22</td>\n",
              "    </tr>\n",
              "    <tr>\n",
              "      <th>2</th>\n",
              "      <td>89627.50</td>\n",
              "      <td>0</td>\n",
              "      <td>12</td>\n",
              "      <td>11440.79806</td>\n",
              "      <td>14</td>\n",
              "    </tr>\n",
              "    <tr>\n",
              "      <th>3</th>\n",
              "      <td>95276.14</td>\n",
              "      <td>0</td>\n",
              "      <td>3</td>\n",
              "      <td>43167.32682</td>\n",
              "      <td>4</td>\n",
              "    </tr>\n",
              "    <tr>\n",
              "      <th>4</th>\n",
              "      <td>117384.68</td>\n",
              "      <td>1</td>\n",
              "      <td>4</td>\n",
              "      <td>12770.11290</td>\n",
              "      <td>5</td>\n",
              "    </tr>\n",
              "  </tbody>\n",
              "</table>\n",
              "</div>"
            ],
            "text/plain": [
              "       preco  vendido  idade_do_modelo   km_por_ano  modelo\n",
              "0   30941.02        1               18  35085.22134      16\n",
              "1   40557.96        1               20  12622.05362      22\n",
              "2   89627.50        0               12  11440.79806      14\n",
              "3   95276.14        0                3  43167.32682       4\n",
              "4  117384.68        1                4  12770.11290       5"
            ]
          },
          "metadata": {
            "tags": []
          },
          "execution_count": 22
        }
      ]
    },
    {
      "cell_type": "markdown",
      "metadata": {
        "id": "I92OOS6nV5ew",
        "colab_type": "text"
      },
      "source": [
        "Feito isso, vamos ver quais são os números de modelos que temos usando a função unique()"
      ]
    },
    {
      "cell_type": "code",
      "metadata": {
        "id": "FYXgXMA-WlRm",
        "colab_type": "code",
        "colab": {
          "base_uri": "https://localhost:8080/",
          "height": 51
        },
        "outputId": "269e43ae-ee39-40a1-9cdb-2c653a94e9be"
      },
      "source": [
        "dados.modelo.unique()"
      ],
      "execution_count": 23,
      "outputs": [
        {
          "output_type": "execute_result",
          "data": {
            "text/plain": [
              "array([16, 22, 14,  4,  5, 12, 17, 13,  0,  7,  9,  6, 19, 20,  3, 18, 15,\n",
              "       21, 11, 10,  8,  2,  1, -1])"
            ]
          },
          "metadata": {
            "tags": []
          },
          "execution_count": 23
        }
      ]
    },
    {
      "cell_type": "markdown",
      "metadata": {
        "id": "5uldil1oWpeF",
        "colab_type": "text"
      },
      "source": [
        "Opa, temos -1 e 0. Isso é estranho para modelo de carro. Então vou somar + 2 em toda a coluna."
      ]
    },
    {
      "cell_type": "code",
      "metadata": {
        "id": "vOu3ITUXW1pS",
        "colab_type": "code",
        "colab": {
          "base_uri": "https://localhost:8080/",
          "height": 51
        },
        "outputId": "83134546-23ff-4d2f-dccc-a86dbee2d2c2"
      },
      "source": [
        "dados.modelo = dados.modelo + 2\n",
        "dados.modelo.unique()"
      ],
      "execution_count": 26,
      "outputs": [
        {
          "output_type": "execute_result",
          "data": {
            "text/plain": [
              "array([22, 28, 20, 10, 11, 18, 23, 19,  6, 13, 15, 12, 25, 26,  9, 24, 21,\n",
              "       27, 17, 16, 14,  8,  7,  5])"
            ]
          },
          "metadata": {
            "tags": []
          },
          "execution_count": 26
        }
      ]
    },
    {
      "cell_type": "markdown",
      "metadata": {
        "id": "h0H7d864XoPr",
        "colab_type": "text"
      },
      "source": [
        "Vamos ver também quantas vezes cada modelo aparece, usando a função value_counts()."
      ]
    },
    {
      "cell_type": "code",
      "metadata": {
        "id": "lf8adn7nW_7w",
        "colab_type": "code",
        "colab": {
          "base_uri": "https://localhost:8080/",
          "height": 442
        },
        "outputId": "657afcdb-0a42-4861-8f5b-91dee293a421"
      },
      "source": [
        "dados.modelo.value_counts()"
      ],
      "execution_count": 27,
      "outputs": [
        {
          "output_type": "execute_result",
          "data": {
            "text/plain": [
              "24    894\n",
              "23    827\n",
              "22    766\n",
              "21    720\n",
              "25    700\n",
              "20    676\n",
              "19    630\n",
              "26    578\n",
              "18    554\n",
              "17    547\n",
              "16    514\n",
              "15    418\n",
              "14    375\n",
              "27    353\n",
              "13    297\n",
              "12    276\n",
              "11    231\n",
              "28    211\n",
              "10    175\n",
              "9     111\n",
              "8      74\n",
              "7      46\n",
              "6      20\n",
              "5       7\n",
              "Name: modelo, dtype: int64"
            ]
          },
          "metadata": {
            "tags": []
          },
          "execution_count": 27
        }
      ]
    },
    {
      "cell_type": "markdown",
      "metadata": {
        "id": "C3MLCAfAYcsi",
        "colab_type": "text"
      },
      "source": [
        "Já temos a coluna de modelos. Agora vamos vamos fazer o cross validation baseado neles.\n",
        "Para dizer em quais grupos o GroupKFold deve se basear, temos que passar a coluna modelos no parâmetro groups na função de cross_validate.\n"
      ]
    },
    {
      "cell_type": "code",
      "metadata": {
        "id": "5_T9xGZTZPFI",
        "colab_type": "code",
        "colab": {
          "base_uri": "https://localhost:8080/",
          "height": 51
        },
        "outputId": "1b20a6cb-a440-4119-be22-0341e1fd93ba"
      },
      "source": [
        "from sklearn.model_selection import GroupKFold\n",
        "SEED = 100\n",
        "np.random.seed(SEED)\n",
        "\n",
        "\n",
        "cv =  GroupKFold(n_splits = 5)\n",
        "\n",
        "#Vamos instanciar o modelo de novo.\n",
        "\n",
        "modelo = DecisionTreeClassifier(max_depth=2)\n",
        "\n",
        "#Aplicando o cross validation com o GroupKFold.\n",
        "\n",
        "results = cross_validate(modelo, x, y, cv = cv, groups = dados.modelo)\n",
        "\n",
        "imprime_results(results)"
      ],
      "execution_count": 29,
      "outputs": [
        {
          "output_type": "stream",
          "text": [
            "Accuracy média: 75.78\n",
            "Accuracy com cross validation: [73.35, 78.22] \n"
          ],
          "name": "stdout"
        }
      ]
    },
    {
      "cell_type": "markdown",
      "metadata": {
        "id": "QvzHiMDUZ2WT",
        "colab_type": "text"
      },
      "source": [
        "Nesse caso, obtemos uma avaliação parecida com a anterior porque fazer os predict's levando em consideração os modelos ou não acaba que não faz tanta diferança. Mas existem situações em que faz."
      ]
    },
    {
      "cell_type": "markdown",
      "metadata": {
        "id": "X6_xpoRIjwRk",
        "colab_type": "text"
      },
      "source": [
        "#Pipeline\n",
        "\n",
        "        Vamos usar outro estimador, nesse caso o SVC, para fazer o cross validation. Aqui teremos um problema. Pois será necessário reescalar as features durante o cross validation. Não posso simplesmente reescalar todas as features antes do cross validation, porque, no pré processamento de dados, quando escalamos as features, fit() é aplicado somente nos dados de treino, e aqui o fit() acontece em treino e teste. Até porque faremos K separações baseadas nos grupos, para treinar e testar. Ou seja, não faremos o fit() somente uma vez. Devemos fazer esse fit() diversas vezes. Na verdade, deveríamos intercalar, fazendo uma vez esse fit, uma vez a validação, uma vez o fit, outra vez a validação, com outro conjunto de dados. \n",
        "        \n",
        "        Para isso, usaremos a classe Pipeline. Esta classe é um processo e um processo tem passos. Então o primeiro passo desse processo será o StandarScaler, para rescalonar as features, e o segundo passo será a criação do modelo, SVC. Note, pela documentação, que o Pipeline funciona como um estimador. Logo, posso passa-lo como estimador para o cross_validate e a cada validação, será aplicado esse processo.\n",
        "        \n",
        "docs:\n",
        "\n",
        "https://scikit-learn.org/stable/modules/generated/sklearn.pipeline.Pipeline.html\n",
        "\n",
        "\n",
        "Obs: Essa situação está descrita na documentação do sklearn. Já coloquei o link anteriormente, mas colocarei aqui de novo.\n",
        "\n",
        "https://scikit-learn.org/stable/modules/cross_validation.html"
      ]
    },
    {
      "cell_type": "code",
      "metadata": {
        "id": "SKTUhspXm_wB",
        "colab_type": "code",
        "colab": {
          "base_uri": "https://localhost:8080/",
          "height": 187
        },
        "outputId": "36a4b736-ee6c-43f2-b962-18a27c6add1d"
      },
      "source": [
        "from sklearn.preprocessing import StandardScaler\n",
        "from sklearn.svm import SVC\n",
        "from sklearn.pipeline import Pipeline\n",
        "\n",
        "scaler = StandardScaler()\n",
        "modelo = SVC()\n",
        "\n",
        "pipeline = Pipeline([ ('Reescalonamento', scaler), ('Instanciação do modelo', modelo )])\n",
        "pipeline"
      ],
      "execution_count": 32,
      "outputs": [
        {
          "output_type": "execute_result",
          "data": {
            "text/plain": [
              "Pipeline(memory=None,\n",
              "         steps=[('Reescalonamento',\n",
              "                 StandardScaler(copy=True, with_mean=True, with_std=True)),\n",
              "                ('Instanciação do modelo',\n",
              "                 SVC(C=1.0, cache_size=200, class_weight=None, coef0=0.0,\n",
              "                     decision_function_shape='ovr', degree=3,\n",
              "                     gamma='auto_deprecated', kernel='rbf', max_iter=-1,\n",
              "                     probability=False, random_state=None, shrinking=True,\n",
              "                     tol=0.001, verbose=False))],\n",
              "         verbose=False)"
            ]
          },
          "metadata": {
            "tags": []
          },
          "execution_count": 32
        }
      ]
    },
    {
      "cell_type": "code",
      "metadata": {
        "id": "rcorI4nJoOAj",
        "colab_type": "code",
        "colab": {
          "base_uri": "https://localhost:8080/",
          "height": 51
        },
        "outputId": "c145a438-cf44-4046-a8ba-9b45fcff0a20"
      },
      "source": [
        "cv =  GroupKFold(n_splits = 5)\n",
        "\n",
        "#Aplicando o cross validation com o GroupKFold.\n",
        "\n",
        "results = cross_validate(pipeline, x, y, cv = cv, groups = dados.modelo)\n",
        "\n",
        "imprime_results(results)"
      ],
      "execution_count": 33,
      "outputs": [
        {
          "output_type": "stream",
          "text": [
            "Accuracy média: 76.54\n",
            "Accuracy com cross validation: [74.62, 78.47] \n"
          ],
          "name": "stdout"
        }
      ]
    }
  ]
}